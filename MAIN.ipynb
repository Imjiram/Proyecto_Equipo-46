{
 "cells": [
  {
   "cell_type": "markdown",
   "metadata": {},
   "source": [
    "## Definir ROI "
   ]
  },
  {
   "cell_type": "code",
   "execution_count": 9,
   "metadata": {},
   "outputs": [],
   "source": [
    "# Importamos las librerias\n",
    "import cv2\n",
    "import numpy as np"
   ]
  },
  {
   "cell_type": "code",
   "execution_count": 10,
   "metadata": {},
   "outputs": [],
   "source": [
    "# Función para seleccionar una región de interés (ROI)\n",
    "def seleccionar_roi(frame):\n",
    "    # Mostrar el fotograma y permitir al usuario seleccionar la ROI con un rectángulo\n",
    "    roi = cv2.selectROI(frame)\n",
    "    \n",
    "    # Devolver las coordenadas de la ROI (x, y, ancho, alto)\n",
    "    return roi"
   ]
  },
  {
   "cell_type": "code",
   "execution_count": 11,
   "metadata": {},
   "outputs": [],
   "source": [
    "# Función para calcular el umbral de iluminación\n",
    "def calcular_umbral(frame):\n",
    "    # Procesamiento de imagen para aislar la región de interés que contiene la neurona\n",
    "    # Esto podría implicar filtrado, segmentación, etc.\n",
    "    # Aquí hay un ejemplo básico de umbralización\n",
    "    gray = cv2.cvtColor(frame, cv2.COLOR_BGR2GRAY)\n",
    "    _, thresholded = cv2.threshold(gray, 127, 255, cv2.THRESH_BINARY)\n",
    "    \n",
    "    # Calcular el umbral de iluminación\n",
    "    umbral_iluminacion = np.mean(thresholded)\n",
    "    \n",
    "    return umbral_iluminacion"
   ]
  },
  {
   "cell_type": "code",
   "execution_count": 12,
   "metadata": {},
   "outputs": [],
   "source": [
    "# Cargar el video \"kindling 1.avi\"\n",
    "video_capture = cv2.VideoCapture(r\"C:\\Users\\franc\\Downloads\\kindling 1.avi\")\n",
    "\n",
    "# Leer el primer fotograma del video\n",
    "ret, frame = video_capture.read()"
   ]
  },
  {
   "cell_type": "code",
   "execution_count": 13,
   "metadata": {},
   "outputs": [],
   "source": [
    "# Seleccionar la ROI en el primer fotograma\n",
    "roi = seleccionar_roi(frame)"
   ]
  },
  {
   "cell_type": "code",
   "execution_count": 14,
   "metadata": {},
   "outputs": [],
   "source": [
    "# Bucle para procesar cada fotograma del video\n",
    "while True:\n",
    "    ret, frame = video_capture.read()\n",
    "    if not ret:\n",
    "        break\n",
    "    \n",
    "    # Extraer la región de interés (ROI) del fotograma actual\n",
    "    x, y, w, h = roi\n",
    "    roi_frame = frame[y:y+h, x:x+w]\n",
    "    \n",
    "    # Calcular el umbral de iluminación para la ROI actual\n",
    "    umbral_actual = calcular_umbral(roi_frame)\n",
    "    \n",
    "    # Mostrar el fotograma con la ROI resaltada y el umbral de iluminación calculado\n",
    "    cv2.rectangle(frame, (x, y), (x + w, y + h), (0, 255, 0), 2)\n",
    "    cv2.putText(frame, f'Umbral: {umbral_actual}', (10, 50), cv2.FONT_HERSHEY_SIMPLEX, 1, (0, 255, 0), 2)\n",
    "    cv2.imshow('Frame', frame)\n",
    "    \n",
    "    # Salir del bucle al presionar 'q'\n",
    "    if cv2.waitKey(1) & 0xFF == ord('q'):\n",
    "        break"
   ]
  },
  {
   "cell_type": "code",
   "execution_count": 15,
   "metadata": {},
   "outputs": [],
   "source": [
    "# Liberar el objeto de captura y cerrar la ventana\n",
    "video_capture.release()\n",
    "cv2.destroyAllWindows()"
   ]
  }
 ],
 "metadata": {
  "kernelspec": {
   "display_name": "base",
   "language": "python",
   "name": "python3"
  },
  "language_info": {
   "codemirror_mode": {
    "name": "ipython",
    "version": 3
   },
   "file_extension": ".py",
   "mimetype": "text/x-python",
   "name": "python",
   "nbconvert_exporter": "python",
   "pygments_lexer": "ipython3",
   "version": "3.11.5"
  }
 },
 "nbformat": 4,
 "nbformat_minor": 2
}
