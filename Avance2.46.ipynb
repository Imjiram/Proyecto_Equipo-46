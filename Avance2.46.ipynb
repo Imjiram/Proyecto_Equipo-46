{
  "nbformat": 4,
  "nbformat_minor": 0,
  "metadata": {
    "colab": {
      "provenance": []
    },
    "kernelspec": {
      "name": "python3",
      "display_name": "Python 3"
    },
    "language_info": {
      "name": "python"
    }
  },
  "cells": [
    {
      "cell_type": "markdown",
      "source": [
        "## PROYECTO INTEGRADOR\n",
        "\n",
        "Jiram Cesar Villalpando Guerrero        A01793579\n",
        "\n",
        "Josep Romagosa Llordén                  A01374637\n",
        "\n",
        "José Francisco Muñoz Del Angel          A01794174"
      ],
      "metadata": {
        "id": "oMzhdmzav7Cz"
      }
    },
    {
      "cell_type": "code",
      "source": [
        "import warnings\n",
        "warnings.filterwarnings('ignore')"
      ],
      "metadata": {
        "id": "Vf8C0D5ZyB9v"
      },
      "execution_count": null,
      "outputs": []
    },
    {
      "cell_type": "code",
      "execution_count": null,
      "metadata": {
        "id": "HxpjO5Dsv01d"
      },
      "outputs": [],
      "source": [
        "from google.colab import drive\n",
        "import pandas as pd\n",
        "import json\n",
        "import numpy as np\n",
        "import seaborn as sns\n",
        "import matplotlib.pyplot as plt\n",
        "from sklearn.impute import SimpleImputer\n",
        "from sklearn.preprocessing import StandardScaler, OneHotEncoder, MinMaxScaler\n",
        "from sklearn.decomposition import PCA\n",
        "from sklearn.pipeline import Pipeline\n",
        "from sklearn.feature_selection import VarianceThreshold\n",
        "import dask.dataframe as dd"
      ]
    },
    {
      "cell_type": "code",
      "source": [
        "drive.mount('/content/drive')\n",
        "file_path = '/content/drive/MyDrive/MNA/Proyecto Final/Collab/data_source/'\n",
        "csv_files = ['data0.csv','data1.csv','data2.csv','data3.csv','data4.csv','data5.csv','data6.csv','data7.csv','data8.csv','data9.csv','data10.csv']\n",
        "dfs = [pd.read_csv(file_path + file) for file in csv_files]\n",
        "data = pd.concat(dfs, ignore_index=True)"
      ],
      "metadata": {
        "colab": {
          "base_uri": "https://localhost:8080/"
        },
        "id": "MmxOMugTwTh2",
        "outputId": "d33e8cad-c505-4501-e340-2f59a2982043"
      },
      "execution_count": null,
      "outputs": [
        {
          "output_type": "stream",
          "name": "stdout",
          "text": [
            "Drive already mounted at /content/drive; to attempt to forcibly remount, call drive.mount(\"/content/drive\", force_remount=True).\n"
          ]
        }
      ]
    },
    {
      "cell_type": "code",
      "source": [
        "df = data[['CourierCode', 'Parcel', 'ZipCodeFrom', 'ZipCodeTo', 'TransitAt', 'DeliveredAt']]"
      ],
      "metadata": {
        "id": "-Ny5WOxDxQO-"
      },
      "execution_count": null,
      "outputs": []
    },
    {
      "cell_type": "code",
      "source": [
        "df['ParcelDict'] = df['Parcel'].apply(json.loads)\n",
        "df['Weight'] = df['ParcelDict'].apply(lambda x: x.get('Weight', 0))\n",
        "df['Height'] = df['ParcelDict'].apply(lambda x: x.get('Height', 0))\n",
        "df['Length'] = df['ParcelDict'].apply(lambda x: x.get('Length', 0))\n",
        "df['Width'] = df['ParcelDict'].apply(lambda x: x.get('Width', 0))\n",
        "df.drop(['Parcel', 'ParcelDict'], axis=1, inplace=True)"
      ],
      "metadata": {
        "id": "ICg6zA4JxSUh"
      },
      "execution_count": null,
      "outputs": []
    },
    {
      "cell_type": "code",
      "source": [
        "df.head()"
      ],
      "metadata": {
        "colab": {
          "base_uri": "https://localhost:8080/",
          "height": 206
        },
        "id": "6DLputYoxugY",
        "outputId": "fbfa4e73-f4e2-475e-df28-bb1f1001df8f"
      },
      "execution_count": null,
      "outputs": [
        {
          "output_type": "execute_result",
          "data": {
            "text/plain": [
              "  CourierCode  ZipCodeFrom ZipCodeTo              TransitAt  \\\n",
              "0         STF        58116     87090  2021-12-21 18:28:00.0   \n",
              "1         BMS        54730      2800  2024-04-08 14:11:00.0   \n",
              "2         STF        37278     85490  2019-06-11 16:02:00.0   \n",
              "3         99M        11500     62577                    NaN   \n",
              "4         APM        54948     60094  2021-07-21 06:29:27.0   \n",
              "\n",
              "             DeliveredAt Weight Height Length Width  \n",
              "0  2021-12-23 17:05:00.0      5      0      0     0  \n",
              "1  2024-04-09 11:05:00.0     12     39     50    30  \n",
              "2  2019-06-15 09:25:00.0      3     15     55    30  \n",
              "3                    NaN      2     12     31    26  \n",
              "4  2021-07-21 10:03:46.0      5      1     10     1  "
            ],
            "text/html": [
              "\n",
              "  <div id=\"df-92701f39-5681-49d8-86d7-86f3e8ee5b98\" class=\"colab-df-container\">\n",
              "    <div>\n",
              "<style scoped>\n",
              "    .dataframe tbody tr th:only-of-type {\n",
              "        vertical-align: middle;\n",
              "    }\n",
              "\n",
              "    .dataframe tbody tr th {\n",
              "        vertical-align: top;\n",
              "    }\n",
              "\n",
              "    .dataframe thead th {\n",
              "        text-align: right;\n",
              "    }\n",
              "</style>\n",
              "<table border=\"1\" class=\"dataframe\">\n",
              "  <thead>\n",
              "    <tr style=\"text-align: right;\">\n",
              "      <th></th>\n",
              "      <th>CourierCode</th>\n",
              "      <th>ZipCodeFrom</th>\n",
              "      <th>ZipCodeTo</th>\n",
              "      <th>TransitAt</th>\n",
              "      <th>DeliveredAt</th>\n",
              "      <th>Weight</th>\n",
              "      <th>Height</th>\n",
              "      <th>Length</th>\n",
              "      <th>Width</th>\n",
              "    </tr>\n",
              "  </thead>\n",
              "  <tbody>\n",
              "    <tr>\n",
              "      <th>0</th>\n",
              "      <td>STF</td>\n",
              "      <td>58116</td>\n",
              "      <td>87090</td>\n",
              "      <td>2021-12-21 18:28:00.0</td>\n",
              "      <td>2021-12-23 17:05:00.0</td>\n",
              "      <td>5</td>\n",
              "      <td>0</td>\n",
              "      <td>0</td>\n",
              "      <td>0</td>\n",
              "    </tr>\n",
              "    <tr>\n",
              "      <th>1</th>\n",
              "      <td>BMS</td>\n",
              "      <td>54730</td>\n",
              "      <td>2800</td>\n",
              "      <td>2024-04-08 14:11:00.0</td>\n",
              "      <td>2024-04-09 11:05:00.0</td>\n",
              "      <td>12</td>\n",
              "      <td>39</td>\n",
              "      <td>50</td>\n",
              "      <td>30</td>\n",
              "    </tr>\n",
              "    <tr>\n",
              "      <th>2</th>\n",
              "      <td>STF</td>\n",
              "      <td>37278</td>\n",
              "      <td>85490</td>\n",
              "      <td>2019-06-11 16:02:00.0</td>\n",
              "      <td>2019-06-15 09:25:00.0</td>\n",
              "      <td>3</td>\n",
              "      <td>15</td>\n",
              "      <td>55</td>\n",
              "      <td>30</td>\n",
              "    </tr>\n",
              "    <tr>\n",
              "      <th>3</th>\n",
              "      <td>99M</td>\n",
              "      <td>11500</td>\n",
              "      <td>62577</td>\n",
              "      <td>NaN</td>\n",
              "      <td>NaN</td>\n",
              "      <td>2</td>\n",
              "      <td>12</td>\n",
              "      <td>31</td>\n",
              "      <td>26</td>\n",
              "    </tr>\n",
              "    <tr>\n",
              "      <th>4</th>\n",
              "      <td>APM</td>\n",
              "      <td>54948</td>\n",
              "      <td>60094</td>\n",
              "      <td>2021-07-21 06:29:27.0</td>\n",
              "      <td>2021-07-21 10:03:46.0</td>\n",
              "      <td>5</td>\n",
              "      <td>1</td>\n",
              "      <td>10</td>\n",
              "      <td>1</td>\n",
              "    </tr>\n",
              "  </tbody>\n",
              "</table>\n",
              "</div>\n",
              "    <div class=\"colab-df-buttons\">\n",
              "\n",
              "  <div class=\"colab-df-container\">\n",
              "    <button class=\"colab-df-convert\" onclick=\"convertToInteractive('df-92701f39-5681-49d8-86d7-86f3e8ee5b98')\"\n",
              "            title=\"Convert this dataframe to an interactive table.\"\n",
              "            style=\"display:none;\">\n",
              "\n",
              "  <svg xmlns=\"http://www.w3.org/2000/svg\" height=\"24px\" viewBox=\"0 -960 960 960\">\n",
              "    <path d=\"M120-120v-720h720v720H120Zm60-500h600v-160H180v160Zm220 220h160v-160H400v160Zm0 220h160v-160H400v160ZM180-400h160v-160H180v160Zm440 0h160v-160H620v160ZM180-180h160v-160H180v160Zm440 0h160v-160H620v160Z\"/>\n",
              "  </svg>\n",
              "    </button>\n",
              "\n",
              "  <style>\n",
              "    .colab-df-container {\n",
              "      display:flex;\n",
              "      gap: 12px;\n",
              "    }\n",
              "\n",
              "    .colab-df-convert {\n",
              "      background-color: #E8F0FE;\n",
              "      border: none;\n",
              "      border-radius: 50%;\n",
              "      cursor: pointer;\n",
              "      display: none;\n",
              "      fill: #1967D2;\n",
              "      height: 32px;\n",
              "      padding: 0 0 0 0;\n",
              "      width: 32px;\n",
              "    }\n",
              "\n",
              "    .colab-df-convert:hover {\n",
              "      background-color: #E2EBFA;\n",
              "      box-shadow: 0px 1px 2px rgba(60, 64, 67, 0.3), 0px 1px 3px 1px rgba(60, 64, 67, 0.15);\n",
              "      fill: #174EA6;\n",
              "    }\n",
              "\n",
              "    .colab-df-buttons div {\n",
              "      margin-bottom: 4px;\n",
              "    }\n",
              "\n",
              "    [theme=dark] .colab-df-convert {\n",
              "      background-color: #3B4455;\n",
              "      fill: #D2E3FC;\n",
              "    }\n",
              "\n",
              "    [theme=dark] .colab-df-convert:hover {\n",
              "      background-color: #434B5C;\n",
              "      box-shadow: 0px 1px 3px 1px rgba(0, 0, 0, 0.15);\n",
              "      filter: drop-shadow(0px 1px 2px rgba(0, 0, 0, 0.3));\n",
              "      fill: #FFFFFF;\n",
              "    }\n",
              "  </style>\n",
              "\n",
              "    <script>\n",
              "      const buttonEl =\n",
              "        document.querySelector('#df-92701f39-5681-49d8-86d7-86f3e8ee5b98 button.colab-df-convert');\n",
              "      buttonEl.style.display =\n",
              "        google.colab.kernel.accessAllowed ? 'block' : 'none';\n",
              "\n",
              "      async function convertToInteractive(key) {\n",
              "        const element = document.querySelector('#df-92701f39-5681-49d8-86d7-86f3e8ee5b98');\n",
              "        const dataTable =\n",
              "          await google.colab.kernel.invokeFunction('convertToInteractive',\n",
              "                                                    [key], {});\n",
              "        if (!dataTable) return;\n",
              "\n",
              "        const docLinkHtml = 'Like what you see? Visit the ' +\n",
              "          '<a target=\"_blank\" href=https://colab.research.google.com/notebooks/data_table.ipynb>data table notebook</a>'\n",
              "          + ' to learn more about interactive tables.';\n",
              "        element.innerHTML = '';\n",
              "        dataTable['output_type'] = 'display_data';\n",
              "        await google.colab.output.renderOutput(dataTable, element);\n",
              "        const docLink = document.createElement('div');\n",
              "        docLink.innerHTML = docLinkHtml;\n",
              "        element.appendChild(docLink);\n",
              "      }\n",
              "    </script>\n",
              "  </div>\n",
              "\n",
              "\n",
              "<div id=\"df-ac0530f1-9217-49e4-a6f3-6258c04c243c\">\n",
              "  <button class=\"colab-df-quickchart\" onclick=\"quickchart('df-ac0530f1-9217-49e4-a6f3-6258c04c243c')\"\n",
              "            title=\"Suggest charts\"\n",
              "            style=\"display:none;\">\n",
              "\n",
              "<svg xmlns=\"http://www.w3.org/2000/svg\" height=\"24px\"viewBox=\"0 0 24 24\"\n",
              "     width=\"24px\">\n",
              "    <g>\n",
              "        <path d=\"M19 3H5c-1.1 0-2 .9-2 2v14c0 1.1.9 2 2 2h14c1.1 0 2-.9 2-2V5c0-1.1-.9-2-2-2zM9 17H7v-7h2v7zm4 0h-2V7h2v10zm4 0h-2v-4h2v4z\"/>\n",
              "    </g>\n",
              "</svg>\n",
              "  </button>\n",
              "\n",
              "<style>\n",
              "  .colab-df-quickchart {\n",
              "      --bg-color: #E8F0FE;\n",
              "      --fill-color: #1967D2;\n",
              "      --hover-bg-color: #E2EBFA;\n",
              "      --hover-fill-color: #174EA6;\n",
              "      --disabled-fill-color: #AAA;\n",
              "      --disabled-bg-color: #DDD;\n",
              "  }\n",
              "\n",
              "  [theme=dark] .colab-df-quickchart {\n",
              "      --bg-color: #3B4455;\n",
              "      --fill-color: #D2E3FC;\n",
              "      --hover-bg-color: #434B5C;\n",
              "      --hover-fill-color: #FFFFFF;\n",
              "      --disabled-bg-color: #3B4455;\n",
              "      --disabled-fill-color: #666;\n",
              "  }\n",
              "\n",
              "  .colab-df-quickchart {\n",
              "    background-color: var(--bg-color);\n",
              "    border: none;\n",
              "    border-radius: 50%;\n",
              "    cursor: pointer;\n",
              "    display: none;\n",
              "    fill: var(--fill-color);\n",
              "    height: 32px;\n",
              "    padding: 0;\n",
              "    width: 32px;\n",
              "  }\n",
              "\n",
              "  .colab-df-quickchart:hover {\n",
              "    background-color: var(--hover-bg-color);\n",
              "    box-shadow: 0 1px 2px rgba(60, 64, 67, 0.3), 0 1px 3px 1px rgba(60, 64, 67, 0.15);\n",
              "    fill: var(--button-hover-fill-color);\n",
              "  }\n",
              "\n",
              "  .colab-df-quickchart-complete:disabled,\n",
              "  .colab-df-quickchart-complete:disabled:hover {\n",
              "    background-color: var(--disabled-bg-color);\n",
              "    fill: var(--disabled-fill-color);\n",
              "    box-shadow: none;\n",
              "  }\n",
              "\n",
              "  .colab-df-spinner {\n",
              "    border: 2px solid var(--fill-color);\n",
              "    border-color: transparent;\n",
              "    border-bottom-color: var(--fill-color);\n",
              "    animation:\n",
              "      spin 1s steps(1) infinite;\n",
              "  }\n",
              "\n",
              "  @keyframes spin {\n",
              "    0% {\n",
              "      border-color: transparent;\n",
              "      border-bottom-color: var(--fill-color);\n",
              "      border-left-color: var(--fill-color);\n",
              "    }\n",
              "    20% {\n",
              "      border-color: transparent;\n",
              "      border-left-color: var(--fill-color);\n",
              "      border-top-color: var(--fill-color);\n",
              "    }\n",
              "    30% {\n",
              "      border-color: transparent;\n",
              "      border-left-color: var(--fill-color);\n",
              "      border-top-color: var(--fill-color);\n",
              "      border-right-color: var(--fill-color);\n",
              "    }\n",
              "    40% {\n",
              "      border-color: transparent;\n",
              "      border-right-color: var(--fill-color);\n",
              "      border-top-color: var(--fill-color);\n",
              "    }\n",
              "    60% {\n",
              "      border-color: transparent;\n",
              "      border-right-color: var(--fill-color);\n",
              "    }\n",
              "    80% {\n",
              "      border-color: transparent;\n",
              "      border-right-color: var(--fill-color);\n",
              "      border-bottom-color: var(--fill-color);\n",
              "    }\n",
              "    90% {\n",
              "      border-color: transparent;\n",
              "      border-bottom-color: var(--fill-color);\n",
              "    }\n",
              "  }\n",
              "</style>\n",
              "\n",
              "  <script>\n",
              "    async function quickchart(key) {\n",
              "      const quickchartButtonEl =\n",
              "        document.querySelector('#' + key + ' button');\n",
              "      quickchartButtonEl.disabled = true;  // To prevent multiple clicks.\n",
              "      quickchartButtonEl.classList.add('colab-df-spinner');\n",
              "      try {\n",
              "        const charts = await google.colab.kernel.invokeFunction(\n",
              "            'suggestCharts', [key], {});\n",
              "      } catch (error) {\n",
              "        console.error('Error during call to suggestCharts:', error);\n",
              "      }\n",
              "      quickchartButtonEl.classList.remove('colab-df-spinner');\n",
              "      quickchartButtonEl.classList.add('colab-df-quickchart-complete');\n",
              "    }\n",
              "    (() => {\n",
              "      let quickchartButtonEl =\n",
              "        document.querySelector('#df-ac0530f1-9217-49e4-a6f3-6258c04c243c button');\n",
              "      quickchartButtonEl.style.display =\n",
              "        google.colab.kernel.accessAllowed ? 'block' : 'none';\n",
              "    })();\n",
              "  </script>\n",
              "</div>\n",
              "    </div>\n",
              "  </div>\n"
            ],
            "application/vnd.google.colaboratory.intrinsic+json": {
              "type": "dataframe",
              "variable_name": "df"
            }
          },
          "metadata": {},
          "execution_count": 6
        }
      ]
    },
    {
      "cell_type": "code",
      "source": [
        "# Convertir columnas de fecha\n",
        "df['TransitAt'] = pd.to_datetime(df['TransitAt'])\n",
        "df['DeliveredAt'] = pd.to_datetime(df['DeliveredAt'])"
      ],
      "metadata": {
        "id": "YsCjWTSjzB5Z"
      },
      "execution_count": null,
      "outputs": []
    },
    {
      "cell_type": "code",
      "source": [
        "# Calculo de tiempo en transito\n",
        "df['TransitTime'] = (df['DeliveredAt'] - df['TransitAt']).dt.total_seconds() / 3600"
      ],
      "metadata": {
        "id": "RzgJTbBO93JC"
      },
      "execution_count": null,
      "outputs": []
    },
    {
      "cell_type": "code",
      "source": [
        "# Transformación logaritmica de TransitTime para normalizar la distribucion\n",
        "df['TransitTime_log'] = np.log1p(df['TransitTime'])"
      ],
      "metadata": {
        "id": "i6dUlg9wD8L9"
      },
      "execution_count": null,
      "outputs": []
    },
    {
      "cell_type": "code",
      "source": [
        "# Añadir caracteristicas basadas en la fecha\n",
        "df['TransitAt_year'] = df['TransitAt'].dt.year\n",
        "df['TransitAt_month'] = df['TransitAt'].dt.month\n",
        "df['TransitAt_weekday'] = df['TransitAt'].dt.weekday"
      ],
      "metadata": {
        "id": "2WdcCbhI_N_6"
      },
      "execution_count": null,
      "outputs": []
    },
    {
      "cell_type": "code",
      "source": [
        "# Codificación de las variables categoricas\n",
        "encoder = OneHotEncoder(sparse=False)\n",
        "courier_status_encoded = encoder.fit_transform(df[['CourierCode']])\n",
        "courier_status_features = encoder.get_feature_names_out(['CourierCode'])\n",
        "courier_status_df = pd.DataFrame(courier_status_encoded, columns=courier_status_features)\n",
        "\n",
        "month_weekday_encoded = encoder.fit_transform(df[['TransitAt_month', 'TransitAt_weekday']])\n",
        "month_weekday_features = encoder.get_feature_names_out(['TransitAt_month', 'TransitAt_weekday'])\n",
        "month_weekday_df = pd.DataFrame(month_weekday_encoded, columns=month_weekday_features)\n",
        "\n",
        "# Concatenar las nuevas caracteristicas codificadas al dataframe original\n",
        "df_encoded = pd.concat([df, courier_status_df, month_weekday_df], axis=1)"
      ],
      "metadata": {
        "id": "Tz6lsATS_Tol"
      },
      "execution_count": null,
      "outputs": []
    },
    {
      "cell_type": "code",
      "source": [
        "# Eliminar columnas que ya no se necesitan\n",
        "columns_to_drop = ['CourierCode', 'TransitAt', 'DeliveredAt', 'TransitAt_month', 'TransitAt_weekday']\n",
        "df_encoded.drop(columns_to_drop, axis=1, inplace=True)"
      ],
      "metadata": {
        "id": "DsguNWtX-EAD"
      },
      "execution_count": null,
      "outputs": []
    },
    {
      "cell_type": "code",
      "source": [
        "cols_to_check = ['ZipCodeTo', 'Weight', 'Height', 'Length', 'Width']\n",
        "df_encoded[cols_to_check] = df_encoded[cols_to_check].applymap(lambda x: pd.to_numeric(x, errors='coerce'))\n",
        "\n",
        "# Eliminar filas con NaN en las columnas especificadas\n",
        "df_encoded = df_encoded.dropna(subset=cols_to_check)"
      ],
      "metadata": {
        "id": "DMsNXth_K346"
      },
      "execution_count": null,
      "outputs": []
    },
    {
      "cell_type": "code",
      "source": [
        "df_encoded.info()"
      ],
      "metadata": {
        "colab": {
          "base_uri": "https://localhost:8080/"
        },
        "id": "59ZFo2tEKhQl",
        "outputId": "bc9a4a48-222c-4c6c-b0c8-478c945729b4"
      },
      "execution_count": null,
      "outputs": [
        {
          "output_type": "stream",
          "name": "stdout",
          "text": [
            "<class 'pandas.core.frame.DataFrame'>\n",
            "Index: 1811730 entries, 0 to 1811731\n",
            "Data columns (total 50 columns):\n",
            " #   Column                 Dtype  \n",
            "---  ------                 -----  \n",
            " 0   ZipCodeFrom            int64  \n",
            " 1   ZipCodeTo              float64\n",
            " 2   Weight                 float64\n",
            " 3   Height                 float64\n",
            " 4   Length                 float64\n",
            " 5   Width                  float64\n",
            " 6   TransitTime            float64\n",
            " 7   TransitTime_log        float64\n",
            " 8   TransitAt_year         float64\n",
            " 9   CourierCode_99M        float64\n",
            " 10  CourierCode_APM        float64\n",
            " 11  CourierCode_BMS        float64\n",
            " 12  CourierCode_DHL        float64\n",
            " 13  CourierCode_DHL_PAKKE  float64\n",
            " 14  CourierCode_FDX        float64\n",
            " 15  CourierCode_IVOY       float64\n",
            " 16  CourierCode_MBE_DHL    float64\n",
            " 17  CourierCode_MBE_FDX    float64\n",
            " 18  CourierCode_MLE        float64\n",
            " 19  CourierCode_MUB        float64\n",
            " 20  CourierCode_PEX        float64\n",
            " 21  CourierCode_PKD        float64\n",
            " 22  CourierCode_RPK        float64\n",
            " 23  CourierCode_SDX_MEX    float64\n",
            " 24  CourierCode_STF        float64\n",
            " 25  CourierCode_STFRT      float64\n",
            " 26  CourierCode_UBER       float64\n",
            " 27  CourierCode_UPS        float64\n",
            " 28  CourierCode_UPS_INT    float64\n",
            " 29  TransitAt_month_1.0    float64\n",
            " 30  TransitAt_month_2.0    float64\n",
            " 31  TransitAt_month_3.0    float64\n",
            " 32  TransitAt_month_4.0    float64\n",
            " 33  TransitAt_month_5.0    float64\n",
            " 34  TransitAt_month_6.0    float64\n",
            " 35  TransitAt_month_7.0    float64\n",
            " 36  TransitAt_month_8.0    float64\n",
            " 37  TransitAt_month_9.0    float64\n",
            " 38  TransitAt_month_10.0   float64\n",
            " 39  TransitAt_month_11.0   float64\n",
            " 40  TransitAt_month_12.0   float64\n",
            " 41  TransitAt_month_nan    float64\n",
            " 42  TransitAt_weekday_0.0  float64\n",
            " 43  TransitAt_weekday_1.0  float64\n",
            " 44  TransitAt_weekday_2.0  float64\n",
            " 45  TransitAt_weekday_3.0  float64\n",
            " 46  TransitAt_weekday_4.0  float64\n",
            " 47  TransitAt_weekday_5.0  float64\n",
            " 48  TransitAt_weekday_6.0  float64\n",
            " 49  TransitAt_weekday_nan  float64\n",
            "dtypes: float64(49), int64(1)\n",
            "memory usage: 704.9 MB\n"
          ]
        }
      ]
    },
    {
      "cell_type": "code",
      "source": [
        "# Imputar valores nan\n",
        "imputer = SimpleImputer(strategy='mean')\n",
        "df_encoded_filled = imputer.fit_transform(df_encoded)\n",
        "df_encoded_filled = pd.DataFrame(df_encoded_filled, columns=df_encoded.columns)"
      ],
      "metadata": {
        "id": "qu_-9EmuA53Y"
      },
      "execution_count": null,
      "outputs": []
    },
    {
      "cell_type": "code",
      "source": [
        "# Escalar las caracteristicas numericas\n",
        "scaler = StandardScaler()\n",
        "df_encoded_scaled = scaler.fit_transform(df_encoded_filled)"
      ],
      "metadata": {
        "id": "uLDfvYw_-HSh"
      },
      "execution_count": null,
      "outputs": []
    },
    {
      "cell_type": "code",
      "source": [
        "# Selección de caracteristicas mediante umbral de varianza\n",
        "selector = VarianceThreshold(threshold=0.95)\n",
        "df_reduced = selector.fit_transform(df_encoded_scaled)"
      ],
      "metadata": {
        "id": "26ykNgPI-U-4"
      },
      "execution_count": null,
      "outputs": []
    },
    {
      "cell_type": "code",
      "source": [
        "# Aplicar PCA para reducir la dimensionalidad\n",
        "pca = PCA(n_components=2)  # Reduccion a 2 componentes principales\n",
        "principal_components = pca.fit_transform(df_reduced)\n",
        "principal_df = pd.DataFrame(data=principal_components, columns=['PC1', 'PC2'])"
      ],
      "metadata": {
        "id": "TUx97FFE-XGq"
      },
      "execution_count": null,
      "outputs": []
    },
    {
      "cell_type": "code",
      "source": [
        "corr_matrix = principal_df.corr()\n",
        "\n",
        "# Crea un mapa de calor\n",
        "plt.figure(figsize=(10, 8))\n",
        "sns.heatmap(corr_matrix, annot=True, fmt=\".2f\", cmap='coolwarm', cbar=True)\n",
        "plt.title('Mapa de calor de correlación')\n",
        "plt.show()"
      ],
      "metadata": {
        "colab": {
          "base_uri": "https://localhost:8080/",
          "height": 699
        },
        "id": "jCqMcrHa-pvg",
        "outputId": "c2af80f1-03bc-4435-9a2d-21087460f55a"
      },
      "execution_count": null,
      "outputs": [
        {
          "output_type": "display_data",
          "data": {
            "text/plain": [
              "<Figure size 1000x800 with 2 Axes>"
            ],
            "image/png": "[encoded data removed]"
          },
          "metadata": {}
        }
      ]
    },
    {
      "cell_type": "code",
      "source": [
        "loadings = pca.components_.T  # Transponer para alinear con las características originales\n",
        "loading_matrix = pd.DataFrame(loadings, columns=['PC1', 'PC2'], index=df_encoded.columns)\n",
        "\n",
        "# Mostrar las cargas más significativas para cada componente principal\n",
        "print(\"Cargas para PC1:\")\n",
        "print(loading_matrix['PC1'].sort_values(ascending=False))\n",
        "\n",
        "print(\"\\nCargas para PC2:\")\n",
        "print(loading_matrix['PC2'].sort_values(ascending=False))"
      ],
      "metadata": {
        "colab": {
          "base_uri": "https://localhost:8080/"
        },
        "id": "MVaZBb8yB7bc",
        "outputId": "9bf6c23d-9c98-473a-b127-01253a87c83a"
      },
      "execution_count": null,
      "outputs": [
        {
          "output_type": "stream",
          "name": "stdout",
          "text": [
            "Cargas para PC1:\n",
            "Width                    0.472614\n",
            "Length                   0.440744\n",
            "Height                   0.432980\n",
            "TransitTime_log          0.299270\n",
            "Weight                   0.201181\n",
            "TransitAt_weekday_nan    0.188749\n",
            "TransitAt_month_nan      0.188749\n",
            "TransitTime              0.154453\n",
            "CourierCode_STF          0.133399\n",
            "ZipCodeTo                0.130689\n",
            "CourierCode_RPK          0.117010\n",
            "CourierCode_FDX          0.078714\n",
            "CourierCode_MBE_FDX      0.072085\n",
            "CourierCode_SDX_MEX      0.056851\n",
            "CourierCode_BMS          0.022218\n",
            "CourierCode_PEX          0.021269\n",
            "TransitAt_year           0.019592\n",
            "CourierCode_UPS_INT      0.006392\n",
            "CourierCode_IVOY         0.004593\n",
            "CourierCode_DHL_PAKKE    0.003776\n",
            "CourierCode_UPS          0.003616\n",
            "CourierCode_MLE          0.002525\n",
            "CourierCode_MUB          0.001066\n",
            "CourierCode_UBER        -0.000248\n",
            "CourierCode_MBE_DHL     -0.002447\n",
            "CourierCode_STFRT       -0.002966\n",
            "CourierCode_DHL         -0.003764\n",
            "TransitAt_month_7.0     -0.005970\n",
            "TransitAt_month_6.0     -0.007369\n",
            "TransitAt_month_4.0     -0.008489\n",
            "TransitAt_month_3.0     -0.008588\n",
            "TransitAt_weekday_4.0   -0.010085\n",
            "TransitAt_weekday_0.0   -0.010323\n",
            "TransitAt_month_8.0     -0.012537\n",
            "TransitAt_month_11.0    -0.013062\n",
            "TransitAt_month_5.0     -0.020625\n",
            "TransitAt_month_12.0    -0.020965\n",
            "TransitAt_month_2.0     -0.024395\n",
            "TransitAt_weekday_3.0   -0.027666\n",
            "TransitAt_month_9.0     -0.029904\n",
            "TransitAt_month_10.0    -0.030294\n",
            "TransitAt_month_1.0     -0.032792\n",
            "TransitAt_weekday_5.0   -0.032808\n",
            "TransitAt_weekday_1.0   -0.033440\n",
            "TransitAt_weekday_2.0   -0.035648\n",
            "CourierCode_PKD         -0.038670\n",
            "ZipCodeFrom             -0.039031\n",
            "TransitAt_weekday_6.0   -0.051873\n",
            "CourierCode_APM         -0.173990\n",
            "CourierCode_99M         -0.244513\n",
            "Name: PC1, dtype: float64\n",
            "\n",
            "Cargas para PC2:\n",
            "CourierCode_STF          0.374804\n",
            "TransitTime_log          0.212991\n",
            "TransitAt_weekday_0.0    0.102952\n",
            "ZipCodeTo                0.102432\n",
            "TransitTime              0.101929\n",
            "TransitAt_weekday_1.0    0.089814\n",
            "TransitAt_weekday_4.0    0.080130\n",
            "TransitAt_weekday_2.0    0.078949\n",
            "Length                   0.074509\n",
            "TransitAt_weekday_3.0    0.070953\n",
            "TransitAt_year           0.067198\n",
            "TransitAt_month_11.0     0.064357\n",
            "TransitAt_month_3.0      0.060622\n",
            "TransitAt_month_1.0      0.055619\n",
            "TransitAt_month_2.0      0.054266\n",
            "TransitAt_month_12.0     0.053743\n",
            "TransitAt_month_10.0     0.047367\n",
            "Weight                   0.047002\n",
            "TransitAt_month_7.0      0.046821\n",
            "Width                    0.045181\n",
            "TransitAt_month_4.0      0.044958\n",
            "TransitAt_month_8.0      0.043981\n",
            "TransitAt_month_6.0      0.043755\n",
            "TransitAt_month_9.0      0.040934\n",
            "TransitAt_month_5.0      0.035459\n",
            "CourierCode_MBE_FDX      0.016598\n",
            "TransitAt_weekday_5.0    0.009307\n",
            "CourierCode_DHL_PAKKE    0.004829\n",
            "CourierCode_BMS          0.004407\n",
            "ZipCodeFrom              0.000457\n",
            "CourierCode_MBE_DHL     -0.000959\n",
            "CourierCode_STFRT       -0.001273\n",
            "Height                  -0.002171\n",
            "CourierCode_UPS_INT     -0.002944\n",
            "CourierCode_UBER        -0.003867\n",
            "CourierCode_PEX         -0.005359\n",
            "CourierCode_MUB         -0.006044\n",
            "CourierCode_UPS         -0.006140\n",
            "CourierCode_MLE         -0.007324\n",
            "CourierCode_SDX_MEX     -0.015831\n",
            "CourierCode_IVOY        -0.017965\n",
            "CourierCode_APM         -0.028407\n",
            "TransitAt_weekday_6.0   -0.032343\n",
            "CourierCode_FDX         -0.062566\n",
            "CourierCode_PKD         -0.102794\n",
            "CourierCode_DHL         -0.147717\n",
            "CourierCode_99M         -0.168840\n",
            "CourierCode_RPK         -0.316991\n",
            "TransitAt_month_nan     -0.521685\n",
            "TransitAt_weekday_nan   -0.521685\n",
            "Name: PC2, dtype: float64\n"
          ]
        }
      ]
    },
    {
      "cell_type": "markdown",
      "source": [
        "###Conclusiones\n",
        "1. **Propósito y Objetivos:**\n",
        "\n",
        "    Comenzamos con una meta clara: mejorar los tiempos de entrega en los servicios de courier. Este objetivo nos guió en la selección y creación de nuevas variables, como TransitTime, que calcula directamente el tiempo que tardan los paquetes en ser entregados.\n",
        "\n",
        "2. **Análisis Inicial de los Datos:**\n",
        "\n",
        "    Evaluamos los datos disponibles para comprender qué teníamos y cómo podíamos usarlo. Nos enfocamos en identificar las variables que necesitaban ser transformadas y las que requerían manipulación adicional, como el manejo de valores faltantes.\n",
        "3. **Proceso de Preparación de Datos:**\n",
        "\n",
        "    - **Limpieza:**\n",
        "\n",
        "    Aseguramos que los datos estuvieran completos y libres de errores, lo cual es esencial para la precisión del análisis.\n",
        "\n",
        "    - **Desarrollo de Nuevas Características:**\n",
        "\n",
        "    Extrajimos información útil como el año, mes y día de la semana de envío para investigar su posible influencia en los tiempos de tránsito.\n",
        "    - **Normalización y Estandarización:**\n",
        "\n",
        "    Aplicamos técnicas para asegurar que todas las características se manejen en igualdad de condiciones, lo cual es crucial para el análisis y modelado posteriores.\n",
        "\n",
        "    - **Reducción de la Complejidad:**\n",
        "    Utilizamos PCA para simplificar los datos a sus componentes más significativos, eliminando así el ruido y las redundancias.\n",
        "\n",
        "4. **Preparación para el Modelado:**\n",
        "\n",
        "    Aunque aún no estamos en la etapa de modelado, la preparación adecuada de los datos garantiza que esta próxima fase sea más eficiente y los modelos más efectivos.\n",
        "\n",
        "5. **Evaluación de la Preparación:**\n",
        "\n",
        "    Es vital evaluar cómo la preparación de los datos impacta en la precisión y interpretación de los modelos, asegurando que los insights derivados sean aplicables y valiosos.\n",
        "\n",
        "6. **Implementación:**\n",
        "\n",
        "    Datos bien preparados facilitan la implementación de modelos en producción, reduciendo la necesidad de ajustes complejos y asegurando que los modelos se integren sin problemas en los procesos existentes.\n",
        "\n",
        "####**Importancia del Proceso**\n",
        "La fase de preparación de datos es crucial porque establece las bases para todas las fases subsecuentes del proyecto. Un buen manejo de los datos no solo facilita las etapas de modelado y evaluación, sino que también asegura que los resultados sean confiables y representativos del problema real. Además, documentar meticulosamente este proceso es esencial para la reproducibilidad y para proporcionar una base sólida para futuros proyectos y análisis."
      ],
      "metadata": {
        "id": "r5Lp6ngUFb9e"
      }
    }
  ]
}